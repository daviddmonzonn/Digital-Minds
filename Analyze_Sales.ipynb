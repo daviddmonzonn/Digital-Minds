{
  "nbformat": 4,
  "nbformat_minor": 0,
  "metadata": {
    "colab": {
      "provenance": [],
      "authorship_tag": "ABX9TyOBXvDW0+cP3maPcoZ46MLq",
      "include_colab_link": true
    },
    "kernelspec": {
      "name": "python3",
      "display_name": "Python 3"
    },
    "language_info": {
      "name": "python"
    }
  },
  "cells": [
    {
      "cell_type": "markdown",
      "metadata": {
        "id": "view-in-github",
        "colab_type": "text"
      },
      "source": [
        "<a href=\"https://colab.research.google.com/github/daviddmonzonn/Digital-Minds/blob/main/Analyze_Sales.ipynb\" target=\"_parent\"><img src=\"https://colab.research.google.com/assets/colab-badge.svg\" alt=\"Open In Colab\"/></a>"
      ]
    },
    {
      "cell_type": "code",
      "execution_count": null,
      "metadata": {
        "colab": {
          "base_uri": "https://localhost:8080/"
        },
        "id": "wpfbQta_CNMJ",
        "outputId": "b0f2c561-8298-453b-9382-846ed0359418"
      },
      "outputs": [
        {
          "output_type": "stream",
          "name": "stdout",
          "text": [
            "Sales summary:\n",
            "- Socks: 5 units solds, the total income is: 79.95\n",
            "- Pants: 3 units solds, the total income is: 109.50\n",
            "- Shirt: 6 units solds, the total income is: 95.94\n",
            "- Shoes: 2 units solds, the total income is: 156.00\n",
            "\n",
            "Best selling product: Shirt\n",
            "\n",
            "Total income: 441.39\n"
          ]
        }
      ],
      "source": [
        "sales = [\n",
        "  {\"product\": \"Socks\", \"quantity\": 5, \"unit_price\": 15.99},\n",
        "  {\"product\": \"Pants\", \"quantity\": 3, \"unit_price\": 36.50},\n",
        "  {\"product\": \"Shirt\", \"quantity\": 6, \"unit_price\": 15.99},\n",
        "  {\"product\": \"Shoes\", \"quantity\": 2, \"unit_price\": 78.00}\n",
        "]\n",
        "\n",
        "def analyze_sales(sales):\n",
        "  sales_summary = {}\n",
        "  total_incomes = 0\n",
        "  for sale in sales:\n",
        "    product = sale[\"product\"]\n",
        "    quantity = sale[\"quantity\"]\n",
        "    unit_price = sale[\"unit_price\"]\n",
        "    product_incomes = quantity * unit_price\n",
        "    if product not in sales_summary:\n",
        "      sales_summary[product] = {\"quantity\": 0, \"income\": 0}\n",
        "    sales_summary[product][\"quantity\"] += quantity\n",
        "    sales_summary[product][\"income\"] += product_incomes\n",
        "    total_incomes += product_incomes\n",
        "  best_selling_product = None\n",
        "  max_quantity = 0\n",
        "  for product, data in sales_summary.items():\n",
        "    if data[\"quantity\"] > max_quantity:\n",
        "      max_quantity = data[\"quantity\"]\n",
        "      best_selling_product = product\n",
        "  return sales_summary, total_incomes, best_selling_product\n",
        "\n",
        "if __name__ == \"__main__\":\n",
        "  summary, total_income, best_seller = analyze_sales(sales)\n",
        "  print(\"Sales summary:\")\n",
        "  for product, data in summary.items():\n",
        "    print(f\"- {product}: {data['quantity']} units solds, the total income is: {data['income']:.2f}\")\n",
        "  print(f\"\\nBest selling product: {best_seller}\")\n",
        "  print(f\"\\nTotal income: {total_income:.2f}\")\n",
        "\n",
        "\n"
      ]
    }
  ]
}